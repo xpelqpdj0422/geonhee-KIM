{
 "cells": [
  {
   "cell_type": "markdown",
   "id": "2647dfb5",
   "metadata": {},
   "source": [
    "# Step 1. 사용할 라이브러리 확인"
   ]
  },
  {
   "cell_type": "code",
   "execution_count": 2016,
   "id": "97c206a2",
   "metadata": {},
   "outputs": [
    {
     "name": "stdout",
     "output_type": "stream",
     "text": [
      "2.6.0\n",
      "1.21.4\n"
     ]
    }
   ],
   "source": [
    "import tensorflow as tf\n",
    "from tensorflow import keras\n",
    "\n",
    "import numpy as np\n",
    "import matplotlib.pyplot as plt\n",
    "import os\n",
    "\n",
    "# 버전 확인. 특히 tensorflow의 경우 버전이 다르면 코드 구동이 제대로 안 될 수도 있다.\n",
    "print(tf.__version__)\n",
    "print(np.__version__)"
   ]
  },
  {
   "cell_type": "markdown",
   "id": "a06869b0",
   "metadata": {},
   "source": [
    "# Step 2. 데이터 준비"
   ]
  },
  {
   "cell_type": "markdown",
   "id": "1028da6d",
   "metadata": {},
   "source": [
    "* 노트북을 활용해 직접 가위, 바위, 보 이미지 100장씩 총 300장을 준비한다. 300장!!! 도대체 언제 준비하나 하겠지만 다행히도 이를 도와줄 수 있는\n",
    "사이트가 있는데, 바로 구글의 teachable machine 사이트라고 한다.(https://teachablemachine.withgoogle.com/)\n",
    "\n",
    "* 이 사이트를 통해 웹캠과 연결되면 가위, 바위, 보를 다양한 각도에서 촬영하고 사진을 다운로드 받는다.\n",
    "\n",
    "* 가위 이미지는 scissor.zip이라는 파일 이름으로, 바위 이미지는 rock.zip이라는 파일 이름으로, 보 이미지는 paper.zip이라는 파일 이름으로 저장한다.\n",
    "눈치챘겠지만 당근 압축 파일이다. 즉 가위 이미지 100장 압축 파일, 바위 이미지 100장 압축 파일, 보 이미지 100장 압축 파일을 저장한 셈이다.\n",
    "\n",
    "* 주피터 노트북 안에서는 압축파일 상태로는 이미지를 열람할 수 없어 압축 해제를 해서 풀어야만 한다.\n",
    "원하는 디렉토리로 이동해서 압축 해제 명령어 unzip rock.zip, unzip scissor.zip, unzip paper.zip을 해서\n",
    "압축해제를 한다."
   ]
  },
  {
   "cell_type": "code",
   "execution_count": 2017,
   "id": "d5f9210d",
   "metadata": {},
   "outputs": [
    {
     "name": "stdout",
     "output_type": "stream",
     "text": [
      "PIL 라이브러리 import 완료!\n"
     ]
    }
   ],
   "source": [
    "from PIL import Image\n",
    "import glob\n",
    "import os\n",
    "\n",
    "print(\"PIL 라이브러리 import 완료!\")"
   ]
  },
  {
   "cell_type": "markdown",
   "id": "7846a710",
   "metadata": {},
   "source": [
    "이미지 용량이 224 * 224 픽셀로 상당히 큰 파일이어서 읽어들이는 데 어려울 수 있다.\n",
    "그래서 이미지 크기를 Resize해서 용량을 줄여주는 작업을 한다."
   ]
  },
  {
   "cell_type": "code",
   "execution_count": 2018,
   "id": "e624e047",
   "metadata": {},
   "outputs": [
    {
     "name": "stdout",
     "output_type": "stream",
     "text": [
      "300  images to be resized.\n",
      "300  images resized.\n",
      "가위 이미지 resize 완료!\n"
     ]
    }
   ],
   "source": [
    "def resize_images(img_path):\n",
    "\timages=glob.glob(img_path + \"/*.jpg\")  \n",
    "    \n",
    "\tprint(len(images), \" images to be resized.\")\n",
    "\n",
    "# 파일마다 모두 28x28 사이즈로 바꾸어 저장.\n",
    "\ttarget_size=(28,28)\n",
    "\tfor img in images:\n",
    "\t\told_img=Image.open(img)\n",
    "\t\tnew_img=old_img.resize(target_size,Image.ANTIALIAS)\n",
    "\t\tnew_img.save(img, \"JPEG\")\n",
    "    \n",
    "\tprint(len(images), \" images resized.\")\n",
    "\t\n",
    "# 가위 이미지가 저장된 디렉토리 아래의 모든 jpg 파일을 읽어들여서\n",
    "image_dir_path = os.getenv(\"HOME\") + \"/aiffel/rock_scissor_paper/scissor\"\n",
    "resize_images(image_dir_path)\n",
    "\n",
    "print(\"가위 이미지 resize 완료!\")"
   ]
  },
  {
   "cell_type": "code",
   "execution_count": 2019,
   "id": "811deedb",
   "metadata": {},
   "outputs": [
    {
     "name": "stdout",
     "output_type": "stream",
     "text": [
      "300  images to be resized.\n",
      "300  images resized.\n",
      "바위 이미지 resize 완료!\n"
     ]
    }
   ],
   "source": [
    "def resize_images(img_path):\n",
    "\timages=glob.glob(img_path + \"/*.jpg\")  \n",
    "    \n",
    "\tprint(len(images), \" images to be resized.\")\n",
    "\n",
    "\ttarget_size=(28,28)\n",
    "\tfor img in images:\n",
    "\t\told_img=Image.open(img)\n",
    "\t\tnew_img=old_img.resize(target_size,Image.ANTIALIAS)\n",
    "\t\tnew_img.save(img, \"JPEG\")\n",
    "    \n",
    "\tprint(len(images), \" images resized.\")\n",
    "\t\n",
    "# 바위 이미지가 저장된 디렉토리 아래의 모든 jpg 파일을 읽어들여서\n",
    "image_dir_path = os.getenv(\"HOME\") + \"/aiffel/rock_scissor_paper/rock\"\n",
    "resize_images(image_dir_path)\n",
    "\n",
    "print(\"바위 이미지 resize 완료!\")"
   ]
  },
  {
   "cell_type": "code",
   "execution_count": 2020,
   "id": "1a4fdf4a",
   "metadata": {},
   "outputs": [
    {
     "name": "stdout",
     "output_type": "stream",
     "text": [
      "300  images to be resized.\n",
      "300  images resized.\n",
      "보 이미지 resize 완료!\n"
     ]
    }
   ],
   "source": [
    "def resize_images(img_path):\n",
    "\timages=glob.glob(img_path + \"/*.jpg\")  \n",
    "    \n",
    "\tprint(len(images), \" images to be resized.\")\n",
    "\n",
    "\ttarget_size=(28,28)\n",
    "\tfor img in images:\n",
    "\t\told_img=Image.open(img)\n",
    "\t\tnew_img=old_img.resize(target_size,Image.ANTIALIAS)\n",
    "\t\tnew_img.save(img, \"JPEG\")\n",
    "    \n",
    "\tprint(len(images), \" images resized.\")\n",
    "\t\n",
    "# 보 이미지가 저장된 디렉토리 아래의 모든 jpg 파일을 읽어들여서\n",
    "image_dir_path = os.getenv(\"HOME\") + \"/aiffel/rock_scissor_paper/paper\"\n",
    "resize_images(image_dir_path)\n",
    "\n",
    "print(\"보 이미지 resize 완료!\")"
   ]
  },
  {
   "cell_type": "code",
   "execution_count": 2021,
   "id": "0ad6ebc8",
   "metadata": {},
   "outputs": [
    {
     "name": "stdout",
     "output_type": "stream",
     "text": [
      "학습데이터(x_train)의 이미지 개수는 900 입니다.\n",
      "x_train shape: (900, 28, 28, 3)\n",
      "y_train shape: (900,)\n"
     ]
    }
   ],
   "source": [
    "import numpy as np\n",
    "\n",
    "# 가위바위보 이미지 개수 총합에 주의할 것. 가위, 바위, 보 이미지 각각 100장씩이니 총 300장!!!\n",
    "def load_data(img_path, number_of_data=900):\n",
    "    # 가위 : 0, 바위 : 1, 보 : 2\n",
    "    img_size=28\n",
    "    color=3\n",
    "    \n",
    "#이미지 데이터와 라벨(가위 : 0, 바위 : 1, 보 : 2) 데이터를 담을 행렬(matrix) 영역을 생성.\n",
    "    imgs=np.zeros(number_of_data*img_size*img_size*color,dtype=np.int32).reshape(number_of_data,img_size,img_size,color)\n",
    "    labels=np.zeros(number_of_data,dtype=np.int32)\n",
    "\n",
    "    idx=0\n",
    "    for file in glob.iglob(img_path+'/scissor/*.jpg'):\n",
    "        img = np.array(Image.open(file),dtype=np.int32)\n",
    "        imgs[idx,:,:,:]=img    # 데이터 영역에 이미지 행렬을 복사\n",
    "        labels[idx]=0   # 가위 : 0\n",
    "        idx=idx+1\n",
    "\n",
    "    for file in glob.iglob(img_path+'/rock/*.jpg'):\n",
    "        img = np.array(Image.open(file),dtype=np.int32)\n",
    "        imgs[idx,:,:,:]=img    # 데이터 영역에 이미지 행렬을 복사\n",
    "        labels[idx]=1   # 바위 : 1\n",
    "        idx=idx+1  \n",
    "    \n",
    "    for file in glob.iglob(img_path+'/paper/*.jpg'):\n",
    "        img = np.array(Image.open(file),dtype=np.int32)\n",
    "        imgs[idx,:,:,:]=img    # 데이터 영역에 이미지 행렬을 복사\n",
    "        labels[idx]=2   # 보 : 2\n",
    "        idx=idx+1\n",
    "        \n",
    "    print(\"학습데이터(x_train)의 이미지 개수는\", idx,\"입니다.\")\n",
    "    return imgs, labels\n",
    "\n",
    "image_dir_path = os.getenv(\"HOME\") + \"/aiffel/rock_scissor_paper\"\n",
    "(x_train, y_train)=load_data(image_dir_path)\n",
    "x_train_norm = x_train/255.0   # 입력은 0~1 사이의 값으로 정규화\n",
    "\n",
    "print(\"x_train shape: {}\".format(x_train.shape))\n",
    "print(\"y_train shape: {}\".format(y_train.shape))"
   ]
  },
  {
   "cell_type": "code",
   "execution_count": 2022,
   "id": "0064f1ea",
   "metadata": {},
   "outputs": [
    {
     "name": "stdout",
     "output_type": "stream",
     "text": [
      "라벨:  0\n"
     ]
    },
    {
     "data": {
      "image/png": "[encoded data removed]",
      "text/plain": [
       "<Figure size 432x288 with 1 Axes>"
      ]
     },
     "metadata": {
      "needs_background": "light"
     },
     "output_type": "display_data"
    }
   ],
   "source": [
    "plt.imshow(x_train[0])\n",
    "print('라벨: ', y_train[0])"
   ]
  },
  {
   "cell_type": "markdown",
   "id": "3de59d5d",
   "metadata": {},
   "source": [
    "# Step 3. 딥러닝 네트워크 설계\n",
    "\n",
    "데이터의 준비가 끝났고, 이제 모델을 직접 설계하는 시간이다. 연습 때랑 거의 비슷하지만 input shape에서 주의를 해야 한다. 앞서 연습 때와는 달리 이번에는 컬러 사진을 가지고 왔기 때문에 input shape는 28 * 28 * 1이 아니라 28 * 28 * 3이 되어야 한다. 컬러 사진은 채널이 RGB 3개의 채널로 이루어져 있으니까!!"
   ]
  },
  {
   "cell_type": "code",
   "execution_count": 2023,
   "id": "e91fe9f0",
   "metadata": {},
   "outputs": [
    {
     "name": "stdout",
     "output_type": "stream",
     "text": [
      "Model에 추가된 Layer 개수:  8\n"
     ]
    }
   ],
   "source": [
    "model=keras.models.Sequential()\n",
    "model.add(keras.layers.Conv2D(32, (3,3), activation='relu', padding = 'same', input_shape=(28,28,3)))\n",
    "model.add(keras.layers.MaxPool2D(2,2))\n",
    "model.add(keras.layers.Conv2D(64, (3,3), activation='relu', padding = 'same'))\n",
    "model.add(keras.layers.MaxPooling2D((2,2)))\n",
    "model.add(keras.layers.Flatten())\n",
    "model.add(keras.layers.Dense(32, activation='relu'))\n",
    "model.add(keras.layers.Dense(16, activation='relu'))\n",
    "model.add(keras.layers.Dense(3, activation='softmax'))\n",
    "\n",
    "print('Model에 추가된 Layer 개수: ', len(model.layers))"
   ]
  },
  {
   "cell_type": "markdown",
   "id": "68bbd397",
   "metadata": {},
   "source": [
    "* Conv2D 레이어의 첫번째 인자 16과 두번째 인자 32의 의미 : 각각 사용하는 이미지 특징의 수로써 처음에는 16개의 이미지 특징을, 그 뒤에 32개의 이미지 특징씩을 고려하겠다는 의미.\n",
    "\n",
    "* Dense 레이어의 첫번째, 두번째 인자 32, 20의 의미 : 분류기에 사용될 뉴런의 숫자. 분류기 알고리즘을 얼마나 복잡하게 할 것인가를 결정\n",
    "\n",
    "* Dense 레이어의 마지막 인자 3의 의미 : 최종 분류기의 class 수로써 여기에서는 가위, 바위, 보 세 가지의 경우를 판별하기 때문에 3이 된다. 참고로 알파벳을 구분하는 경우라면 A부터 Z까지 대소문자 52개의 클래스 수가 될 것이다."
   ]
  },
  {
   "cell_type": "code",
   "execution_count": 2024,
   "id": "0c531e81",
   "metadata": {},
   "outputs": [
    {
     "name": "stdout",
     "output_type": "stream",
     "text": [
      "Model: \"sequential_464\"\n",
      "_________________________________________________________________\n",
      "Layer (type)                 Output Shape              Param #   \n",
      "=================================================================\n",
      "conv2d_928 (Conv2D)          (None, 28, 28, 32)        896       \n",
      "_________________________________________________________________\n",
      "max_pooling2d_928 (MaxPoolin (None, 14, 14, 32)        0         \n",
      "_________________________________________________________________\n",
      "conv2d_929 (Conv2D)          (None, 14, 14, 64)        18496     \n",
      "_________________________________________________________________\n",
      "max_pooling2d_929 (MaxPoolin (None, 7, 7, 64)          0         \n",
      "_________________________________________________________________\n",
      "flatten_464 (Flatten)        (None, 3136)              0         \n",
      "_________________________________________________________________\n",
      "dense_1416 (Dense)           (None, 32)                100384    \n",
      "_________________________________________________________________\n",
      "dense_1417 (Dense)           (None, 16)                528       \n",
      "_________________________________________________________________\n",
      "dense_1418 (Dense)           (None, 3)                 51        \n",
      "=================================================================\n",
      "Total params: 120,355\n",
      "Trainable params: 120,355\n",
      "Non-trainable params: 0\n",
      "_________________________________________________________________\n"
     ]
    }
   ],
   "source": [
    "model.summary()"
   ]
  },
  {
   "cell_type": "code",
   "execution_count": 2025,
   "id": "cfc3b042",
   "metadata": {
    "scrolled": false
   },
   "outputs": [
    {
     "name": "stdout",
     "output_type": "stream",
     "text": [
      "Epoch 1/10\n",
      "29/29 [==============================] - 0s 3ms/step - loss: 1.0880 - accuracy: 0.4033\n",
      "Epoch 2/10\n",
      "29/29 [==============================] - 0s 3ms/step - loss: 0.9993 - accuracy: 0.5022\n",
      "Epoch 3/10\n",
      "29/29 [==============================] - 0s 3ms/step - loss: 0.8151 - accuracy: 0.6378\n",
      "Epoch 4/10\n",
      "29/29 [==============================] - 0s 3ms/step - loss: 0.6389 - accuracy: 0.7622\n",
      "Epoch 5/10\n",
      "29/29 [==============================] - 0s 3ms/step - loss: 0.4703 - accuracy: 0.8444\n",
      "Epoch 6/10\n",
      "29/29 [==============================] - 0s 3ms/step - loss: 0.3502 - accuracy: 0.8789\n",
      "Epoch 7/10\n",
      "29/29 [==============================] - 0s 3ms/step - loss: 0.3192 - accuracy: 0.8833\n",
      "Epoch 8/10\n",
      "29/29 [==============================] - 0s 3ms/step - loss: 0.2673 - accuracy: 0.9044\n",
      "Epoch 9/10\n",
      "29/29 [==============================] - 0s 3ms/step - loss: 0.2298 - accuracy: 0.9022\n",
      "Epoch 10/10\n",
      "29/29 [==============================] - 0s 3ms/step - loss: 0.1846 - accuracy: 0.9322\n"
     ]
    },
    {
     "data": {
      "text/plain": [
       "<keras.callbacks.History at 0x7f44ecf91910>"
      ]
     },
     "execution_count": 2025,
     "metadata": {},
     "output_type": "execute_result"
    }
   ],
   "source": [
    "# 딥러닝 네트워크를 학습하는 과정이다. \n",
    "model.compile(optimizer='adam',\n",
    "             loss='sparse_categorical_crossentropy',\n",
    "             metrics=['accuracy'])\n",
    "\n",
    "model.fit(x_train_norm, y_train, epochs=10)"
   ]
  },
  {
   "cell_type": "markdown",
   "id": "f8972459",
   "metadata": {},
   "source": [
    "# Step 4. 얼마나 잘 만들었는지 확인하기(test)"
   ]
  },
  {
   "cell_type": "markdown",
   "id": "b50d1a01",
   "metadata": {},
   "source": [
    "Cloud Shell에 \"mkdir -p ~/aiffel/rock_scissor_paper/test\"라는 명령어를 입력하여 test 파일을 불러들인다. 이 역시 앞서 훈련용 데이터를 가공했던 방법과 똑같은 방법으로  resize를 해 줘야 한다. 그러기 위해 test용 가위바위보 사진을 먼저 클라우드 주피터로 먼저 옮겨주자."
   ]
  },
  {
   "cell_type": "code",
   "execution_count": 2026,
   "id": "86a0d2b1",
   "metadata": {},
   "outputs": [
    {
     "name": "stdout",
     "output_type": "stream",
     "text": [
      "100  images to be resized.\n",
      "100  images resized.\n",
      "100  images to be resized.\n",
      "100  images resized.\n",
      "100  images to be resized.\n",
      "100  images resized.\n"
     ]
    }
   ],
   "source": [
    "# x_test, y_test를 만드는 방법은 x_train, y_train을 만드는 방법과 아주 유사합니다.\n",
    "def resize_images(img_path):\n",
    "\timages=glob.glob(img_path + \"/*.jpg\")\n",
    "\tprint(len(images), \" images to be resized.\")\n",
    "\ttarget_size=(28,28)\n",
    "\tfor img in images:\n",
    "\t\told_img=Image.open(img)\n",
    "\t\tnew_img=old_img.resize(target_size,Image.ANTIALIAS)\n",
    "\t\tnew_img.save(img, \"JPEG\")\n",
    "\tprint(len(images), \" images resized.\")\n",
    "image_dir_path = os.getenv(\"HOME\") + \"/aiffel/rock_scissor_paper/test/scissor\"\n",
    "resize_images(image_dir_path)\n",
    "image_dir_path2 = os.getenv(\"HOME\") + \"/aiffel/rock_scissor_paper/test/rock\"\n",
    "resize_images(image_dir_path2)\n",
    "image_dir_path3 = os.getenv(\"HOME\") + \"/aiffel/rock_scissor_paper/test/paper\"\n",
    "resize_images(image_dir_path3)"
   ]
  },
  {
   "cell_type": "code",
   "execution_count": 2027,
   "id": "30d06193",
   "metadata": {},
   "outputs": [
    {
     "name": "stdout",
     "output_type": "stream",
     "text": [
      "(x_test)의 이미지 개수는 300 입니다.\n",
      "x_test shape: (300, 28, 28, 3)\n",
      "y_test shape: (300,)\n"
     ]
    }
   ],
   "source": [
    "import numpy as np\n",
    "\n",
    "# 가위바위보 이미지 개수 총합에 주의할 것. 가위, 바위, 보 이미지 각각 100장씩이니 총 300장!!!\n",
    "def load_data(img_path, number_of_data=300):\n",
    "    # 가위 : 0, 바위 : 1, 보 : 2\n",
    "    img_size=28\n",
    "    color=3\n",
    "    \n",
    "#이미지 데이터와 라벨(가위 : 0, 바위 : 1, 보 : 2) 데이터를 담을 행렬(matrix) 영역을 생성.\n",
    "    imgs=np.zeros(number_of_data*img_size*img_size*color,dtype=np.int32).reshape(number_of_data,img_size,img_size,color)\n",
    "    labels=np.zeros(number_of_data,dtype=np.int32)\n",
    "\n",
    "    idx=0\n",
    "    for file in glob.iglob(img_path+'/scissor/*.jpg'):\n",
    "        img = np.array(Image.open(file),dtype=np.int32)\n",
    "        imgs[idx,:,:,:]=img    # 데이터 영역에 이미지 행렬을 복사\n",
    "        labels[idx]=0   # 가위 : 0\n",
    "        idx=idx+1\n",
    "\n",
    "    for file in glob.iglob(img_path+'/rock/*.jpg'):\n",
    "        img = np.array(Image.open(file),dtype=np.int32)\n",
    "        imgs[idx,:,:,:]=img    # 데이터 영역에 이미지 행렬을 복사\n",
    "        labels[idx]=1   # 바위 : 1\n",
    "        idx=idx+1  \n",
    "    \n",
    "    for file in glob.iglob(img_path+'/paper/*.jpg'):\n",
    "        img = np.array(Image.open(file),dtype=np.int32)\n",
    "        imgs[idx,:,:,:]=img    # 데이터 영역에 이미지 행렬을 복사\n",
    "        labels[idx]=2   # 보 : 2\n",
    "        idx=idx+1\n",
    "        \n",
    "    print(\"(x_test)의 이미지 개수는\", idx,\"입니다.\")\n",
    "    return imgs, labels\n",
    "\n",
    "image_dir_path = os.getenv(\"HOME\") + \"/aiffel/rock_scissor_paper/test\"\n",
    "(x_test, y_test)=load_data(image_dir_path)\n",
    "x_test_norm = x_train / 255.0   # 입력은 0~1 사이의 값으로 정규화\n",
    "\n",
    "print(\"x_test shape: {}\".format(x_test.shape))\n",
    "print(\"y_test shape: {}\".format(y_test.shape))"
   ]
  },
  {
   "cell_type": "code",
   "execution_count": 2028,
   "id": "3b69e92c",
   "metadata": {},
   "outputs": [
    {
     "name": "stdout",
     "output_type": "stream",
     "text": [
      "최소값: 0.0  최대값: 1.0\n"
     ]
    }
   ],
   "source": [
    "x_test_norm = x_test / 255.0\n",
    "print('최소값:',np.min(x_train_norm), ' 최대값:',np.max(x_train_norm))"
   ]
  },
  {
   "cell_type": "code",
   "execution_count": 2029,
   "id": "2de33e99",
   "metadata": {},
   "outputs": [
    {
     "name": "stdout",
     "output_type": "stream",
     "text": [
      "10/10 - 0s - loss: 2.5549 - accuracy: 0.4433\n",
      "test_loss: 2.554870367050171 \n",
      "test_accuracy: 0.44333332777023315\n"
     ]
    }
   ],
   "source": [
    "test_loss, test_accuracy = model.evaluate(x_test_norm,y_test, verbose=2)\n",
    "print(\"test_loss: {} \".format(test_loss))\n",
    "print(\"test_accuracy: {}\".format(test_accuracy))"
   ]
  },
  {
   "cell_type": "markdown",
   "id": "6f8b994d",
   "metadata": {},
   "source": [
    "# Step 5. 모델 개선시키기"
   ]
  },
  {
   "cell_type": "code",
   "execution_count": 2030,
   "id": "3f7d9d9c",
   "metadata": {},
   "outputs": [
    {
     "name": "stdout",
     "output_type": "stream",
     "text": [
      "model.predict() 결과 :  [5.3991109e-02 1.3177903e-05 9.4599569e-01]\n",
      "model이 추론한 가장 가능성이 높은 결과 :  2\n",
      "실제 데이터의 라벨 :  0\n"
     ]
    }
   ],
   "source": [
    "predicted_result = model.predict(x_test_norm)  # model이 추론한 확률값. \n",
    "predicted_labels = np.argmax(predicted_result, axis=1)\n",
    "\n",
    "idx=0  #1번째 x_test를 살펴보자. \n",
    "print('model.predict() 결과 : ', predicted_result[idx])\n",
    "print('model이 추론한 가장 가능성이 높은 결과 : ', predicted_labels[idx])\n",
    "print('실제 데이터의 라벨 : ', y_test[idx])"
   ]
  },
  {
   "cell_type": "code",
   "execution_count": 2031,
   "id": "0ef63e51",
   "metadata": {},
   "outputs": [
    {
     "data": {
      "image/png": "[encoded data removed]",
      "text/plain": [
       "<Figure size 432x288 with 1 Axes>"
      ]
     },
     "metadata": {
      "needs_background": "light"
     },
     "output_type": "display_data"
    }
   ],
   "source": [
    "plt.imshow(x_test[idx],cmap=plt.cm.binary)\n",
    "plt.show()"
   ]
  },
  {
   "cell_type": "code",
   "execution_count": 2032,
   "id": "b7bb61cb",
   "metadata": {
    "scrolled": false
   },
   "outputs": [
    {
     "name": "stdout",
     "output_type": "stream",
     "text": [
      "예측확률분포 :[0.3313929  0.00905207 0.659555  ]\n",
      "라벨: 0, 예측결과: 2\n"
     ]
    },
    {
     "data": {
      "image/png": "[encoded data removed]",
      "text/plain": [
       "<Figure size 432x288 with 1 Axes>"
      ]
     },
     "metadata": {
      "needs_background": "light"
     },
     "output_type": "display_data"
    },
    {
     "name": "stdout",
     "output_type": "stream",
     "text": [
      "예측확률분포 :[3.2566188e-06 2.6163327e-06 9.9999416e-01]\n",
      "라벨: 1, 예측결과: 2\n"
     ]
    },
    {
     "data": {
      "image/png": "[encoded data removed]",
      "text/plain": [
       "<Figure size 432x288 with 1 Axes>"
      ]
     },
     "metadata": {
      "needs_background": "light"
     },
     "output_type": "display_data"
    },
    {
     "name": "stdout",
     "output_type": "stream",
     "text": [
      "예측확률분포 :[0.01328214 0.98135614 0.00536179]\n",
      "라벨: 0, 예측결과: 1\n"
     ]
    },
    {
     "data": {
      "image/png": "[encoded data removed]",
      "text/plain": [
       "<Figure size 432x288 with 1 Axes>"
      ]
     },
     "metadata": {
      "needs_background": "light"
     },
     "output_type": "display_data"
    }
   ],
   "source": [
    "import random\n",
    "wrong_predict_list = []\n",
    "for i,_ in enumerate(predicted_labels):\n",
    "    # i번째 test_labels과 y_test이 다른 경우(틀리게 예측한 경우)만 모으는 과정.\n",
    "    if predicted_labels[i] != y_test[i]:\n",
    "        wrong_predict_list.append(i)\n",
    "        \n",
    "samples = random.choices(population = wrong_predict_list, k=3)\n",
    "\n",
    "for n in samples:\n",
    "    print(\"예측확률분포 :\" + str(predicted_result[n]))\n",
    "    print(\"라벨: \" + str(y_test[n]) + \", 예측결과: \" + str(predicted_labels[n]))\n",
    "    plt.imshow(x_test[n], cmap=plt.cm.binary)\n",
    "    plt.show()"
   ]
  },
  {
   "cell_type": "code",
   "execution_count": 2188,
   "id": "6ee8e68e",
   "metadata": {
    "scrolled": false
   },
   "outputs": [
    {
     "name": "stdout",
     "output_type": "stream",
     "text": [
      "Model: \"sequential_620\"\n",
      "_________________________________________________________________\n",
      "Layer (type)                 Output Shape              Param #   \n",
      "=================================================================\n",
      "conv2d_1240 (Conv2D)         (None, 28, 28, 32)        896       \n",
      "_________________________________________________________________\n",
      "max_pooling2d_1240 (MaxPooli (None, 14, 14, 32)        0         \n",
      "_________________________________________________________________\n",
      "conv2d_1241 (Conv2D)         (None, 14, 14, 64)        18496     \n",
      "_________________________________________________________________\n",
      "max_pooling2d_1241 (MaxPooli (None, 7, 7, 64)          0         \n",
      "_________________________________________________________________\n",
      "flatten_620 (Flatten)        (None, 3136)              0         \n",
      "_________________________________________________________________\n",
      "dense_1826 (Dense)           (None, 32)                100384    \n",
      "_________________________________________________________________\n",
      "dense_1827 (Dense)           (None, 16)                528       \n",
      "_________________________________________________________________\n",
      "dense_1828 (Dense)           (None, 3)                 51        \n",
      "=================================================================\n",
      "Total params: 120,355\n",
      "Trainable params: 120,355\n",
      "Non-trainable params: 0\n",
      "_________________________________________________________________\n",
      "Epoch 1/40\n",
      "29/29 [==============================] - 0s 3ms/step - loss: 1.0842 - accuracy: 0.4000\n",
      "Epoch 2/40\n",
      "29/29 [==============================] - 0s 3ms/step - loss: 0.9554 - accuracy: 0.5900\n",
      "Epoch 3/40\n",
      "29/29 [==============================] - 0s 3ms/step - loss: 0.7563 - accuracy: 0.6678\n",
      "Epoch 4/40\n",
      "29/29 [==============================] - 0s 3ms/step - loss: 0.5640 - accuracy: 0.8033\n",
      "Epoch 5/40\n",
      "29/29 [==============================] - 0s 3ms/step - loss: 0.3504 - accuracy: 0.8689\n",
      "Epoch 6/40\n",
      "29/29 [==============================] - 0s 3ms/step - loss: 0.2640 - accuracy: 0.9044\n",
      "Epoch 7/40\n",
      "29/29 [==============================] - 0s 3ms/step - loss: 0.2246 - accuracy: 0.9244\n",
      "Epoch 8/40\n",
      "29/29 [==============================] - 0s 4ms/step - loss: 0.1946 - accuracy: 0.9378\n",
      "Epoch 9/40\n",
      "29/29 [==============================] - 0s 3ms/step - loss: 0.1565 - accuracy: 0.9522\n",
      "Epoch 10/40\n",
      "29/29 [==============================] - 0s 3ms/step - loss: 0.1290 - accuracy: 0.9622\n",
      "Epoch 11/40\n",
      "29/29 [==============================] - 0s 3ms/step - loss: 0.0943 - accuracy: 0.9744\n",
      "Epoch 12/40\n",
      "29/29 [==============================] - 0s 3ms/step - loss: 0.0884 - accuracy: 0.9756\n",
      "Epoch 13/40\n",
      "29/29 [==============================] - 0s 3ms/step - loss: 0.0842 - accuracy: 0.9756\n",
      "Epoch 14/40\n",
      "29/29 [==============================] - 0s 3ms/step - loss: 0.0696 - accuracy: 0.9800\n",
      "Epoch 15/40\n",
      "29/29 [==============================] - 0s 3ms/step - loss: 0.0484 - accuracy: 0.9889\n",
      "Epoch 16/40\n",
      "29/29 [==============================] - 0s 3ms/step - loss: 0.0605 - accuracy: 0.9856\n",
      "Epoch 17/40\n",
      "29/29 [==============================] - 0s 3ms/step - loss: 0.0263 - accuracy: 0.9956\n",
      "Epoch 18/40\n",
      "29/29 [==============================] - 0s 3ms/step - loss: 0.0260 - accuracy: 0.9933\n",
      "Epoch 19/40\n",
      "29/29 [==============================] - 0s 3ms/step - loss: 0.0198 - accuracy: 0.9978\n",
      "Epoch 20/40\n",
      "29/29 [==============================] - 0s 3ms/step - loss: 0.0148 - accuracy: 0.9989\n",
      "Epoch 21/40\n",
      "29/29 [==============================] - 0s 3ms/step - loss: 0.0249 - accuracy: 0.9944\n",
      "Epoch 22/40\n",
      "29/29 [==============================] - 0s 3ms/step - loss: 0.0113 - accuracy: 1.0000\n",
      "Epoch 23/40\n",
      "29/29 [==============================] - 0s 3ms/step - loss: 0.0113 - accuracy: 1.0000\n",
      "Epoch 24/40\n",
      "29/29 [==============================] - 0s 3ms/step - loss: 0.0112 - accuracy: 0.9978\n",
      "Epoch 25/40\n",
      "29/29 [==============================] - 0s 3ms/step - loss: 0.0058 - accuracy: 1.0000\n",
      "Epoch 26/40\n",
      "29/29 [==============================] - 0s 3ms/step - loss: 0.0048 - accuracy: 1.0000\n",
      "Epoch 27/40\n",
      "29/29 [==============================] - 0s 3ms/step - loss: 0.0047 - accuracy: 1.0000\n",
      "Epoch 28/40\n",
      "29/29 [==============================] - 0s 3ms/step - loss: 0.0047 - accuracy: 1.0000\n",
      "Epoch 29/40\n",
      "29/29 [==============================] - 0s 3ms/step - loss: 0.0036 - accuracy: 1.0000\n",
      "Epoch 30/40\n",
      "29/29 [==============================] - 0s 3ms/step - loss: 0.0033 - accuracy: 1.0000\n",
      "Epoch 31/40\n",
      "29/29 [==============================] - 0s 3ms/step - loss: 0.0030 - accuracy: 1.0000\n",
      "Epoch 32/40\n",
      "29/29 [==============================] - 0s 3ms/step - loss: 0.0025 - accuracy: 1.0000\n",
      "Epoch 33/40\n",
      "29/29 [==============================] - 0s 3ms/step - loss: 0.0028 - accuracy: 1.0000\n",
      "Epoch 34/40\n",
      "29/29 [==============================] - 0s 3ms/step - loss: 0.0026 - accuracy: 1.0000\n",
      "Epoch 35/40\n",
      "29/29 [==============================] - 0s 3ms/step - loss: 0.0022 - accuracy: 1.0000\n",
      "Epoch 36/40\n",
      "29/29 [==============================] - 0s 3ms/step - loss: 0.0019 - accuracy: 1.0000\n",
      "Epoch 37/40\n",
      "29/29 [==============================] - 0s 3ms/step - loss: 0.0022 - accuracy: 1.0000\n",
      "Epoch 38/40\n",
      "29/29 [==============================] - 0s 3ms/step - loss: 0.0021 - accuracy: 1.0000\n",
      "Epoch 39/40\n",
      "29/29 [==============================] - 0s 3ms/step - loss: 0.0014 - accuracy: 1.0000\n",
      "Epoch 40/40\n",
      "29/29 [==============================] - 0s 3ms/step - loss: 0.0016 - accuracy: 1.0000\n",
      "10/10 - 0s - loss: 3.4417 - accuracy: 0.5333\n",
      "test_loss: 3.4416940212249756 \n",
      "test_accuracy: 0.5333333611488342\n"
     ]
    }
   ],
   "source": [
    "# 바꿔 볼 수 있는 하이퍼 파라미터\n",
    "n_channel_1 = 32\n",
    "n_channel_2 = 64\n",
    "n_dense_1 = 32\n",
    "n_dense_2 = 16\n",
    "# n_dense_3 = 4\n",
    "n_train_epoch = 40\n",
    "\n",
    "model = model=keras.models.Sequential()\n",
    "model.add(keras.layers.Conv2D(n_channel_1, (3,3), activation='relu', padding = 'same', input_shape=(28,28,3)))\n",
    "model.add(keras.layers.MaxPool2D(2,2))\n",
    "model.add(keras.layers.Conv2D(n_channel_2, (3,3), activation='relu', padding = 'same'))\n",
    "model.add(keras.layers.MaxPooling2D((2,2)))\n",
    "model.add(keras.layers.Flatten())\n",
    "model.add(keras.layers.Dense(n_dense_1, activation='relu'))\n",
    "model.add(keras.layers.Dense(n_dense_2, activation='relu'))\n",
    "# model.add(keras.layers.Dense(n_dense_3, activation='relu'))\n",
    "model.add(keras.layers.Dense(3, activation='softmax'))\n",
    "\n",
    "model.summary()\n",
    "model.compile(optimizer='adam',\n",
    "             loss='sparse_categorical_crossentropy',\n",
    "             metrics=['accuracy'])\n",
    "\n",
    "# 모델 훈련\n",
    "model.fit(x_train_norm, y_train, epochs=n_train_epoch)\n",
    "\n",
    "# 모델 시험\n",
    "test_loss, test_accuracy = model.evaluate(x_test_norm, y_test, verbose=2)\n",
    "print(\"test_loss: {} \".format(test_loss))\n",
    "print(\"test_accuracy: {}\".format(test_accuracy))"
   ]
  },
  {
   "cell_type": "markdown",
   "id": "d823a2a1",
   "metadata": {},
   "source": [
    "# 회고\n",
    "\n",
    "* 우선 가위바위보 사진을 직접 찍어보는 것도 재미있었고, 또 내가 찍은 사진이 가위인지 바위인지 보인지를 판별해내는 모델을 만들어 보았다는 것 역시 굉장히 즐거운 탐험 노드였다고 생각이 된다.\n",
    "\n",
    "* 그런데 안타깝게도 사진을 잘못 찍었는지, 아니면 최고로 적합한 하이퍼 파라미터 값을 잡아내지 못했는지 이유는 잘 모르겠지만, 최종적인 정확도가 33.33%에서 겉도는 결과값만을 보이며 결과적인 측면으로만 보면 다소 아쉬웠다는 생각이 들었다. 최대 48% 정도의 정확도를 잡아내기는 했다."
   ]
  },
  {
   "cell_type": "code",
   "execution_count": null,
   "id": "275e28d5",
   "metadata": {},
   "outputs": [],
   "source": []
  },
  {
   "cell_type": "code",
   "execution_count": null,
   "id": "27eb6dea",
   "metadata": {},
   "outputs": [],
   "source": []
  },
  {
   "cell_type": "code",
   "execution_count": null,
   "id": "663d1561",
   "metadata": {},
   "outputs": [],
   "source": []
  }
 ],
 "metadata": {
  "kernelspec": {
   "display_name": "Python 3 (ipykernel)",
   "language": "python",
   "name": "python3"
  },
  "language_info": {
   "codemirror_mode": {
    "name": "ipython",
    "version": 3
   },
   "file_extension": ".py",
   "mimetype": "text/x-python",
   "name": "python",
   "nbconvert_exporter": "python",
   "pygments_lexer": "ipython3",
   "version": "3.9.7"
  }
 },
 "nbformat": 4,
 "nbformat_minor": 5
}
